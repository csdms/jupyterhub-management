{
 "cells": [
  {
   "cell_type": "markdown",
   "id": "9a32553f-555b-4c4b-930f-fa15e3d61dde",
   "metadata": {},
   "source": [
    "# EarthscapeHub : frontier\n",
    "\n",
    "<img align=\"right\" style=\"margin:0 0 20px 20px\" width=\"35%\" height=\"35%\" src=\"https://csdms.colorado.edu/csdms_wiki/images/OpenEarthscape_logo.png\">\n",
    "\n",
    "Welcome! This *frontier* instance of [EarthscapeHub](https://csdms.colorado.edu/wiki/JupyterHub)\n",
    "is designed for running models,\n",
    "possibly over several days using many cores and a large amount of memory.\n",
    "It's free and available for use by all CSDMS members,\n",
    "whether you're an undergraduate,\n",
    "grad student, postdoc, researcher, or faculty.\n",
    "\n",
    "If you have any questions about using this JupyterHub, please contact us\n",
    "through the [CSDMS Help Desk](https://csdms.github.io/help-desk)."
   ]
  },
  {
   "cell_type": "markdown",
   "id": "4db9d6e2-c31e-4330-b3b0-dd61bff8bb3f",
   "metadata": {},
   "source": [
    "## user interface\n",
    "\n",
    "The default user interface on this Hub is [JupyterLab](https://jupyter.org/).\n",
    "If you haven't used JupyterLab before,\n",
    "there's ample [documentation](https://jupyterlab.readthedocs.io/).\n",
    "However, it's best to just get in and try it."
   ]
  },
  {
   "cell_type": "markdown",
   "id": "437819f6-2443-4720-bb7e-1ef1e27c6e35",
   "metadata": {},
   "source": [
    "## software\n",
    "\n",
    "This Hub uses Jupyter kernels mapped to conda environments to group software.\n",
    "The default kernel is called *Python 3*.\n",
    "It contains a minimal set of software packages.\n",
    "To explore with CSDMS models and tools, including Landlab, pymt, BMI, and terrainbento,\n",
    "select the *CSDMS* kernel.\n",
    "\n",
    "If you'd like new software installed (e.g., for a class or a workshop), please contact us through the [CSDMS Help Desk](https://csdms.github.io/help-desk)."
   ]
  },
  {
   "cell_type": "markdown",
   "id": "d010b68e-fad4-475f-85d5-47a60c0439e2",
   "metadata": {},
   "source": [
    "## default files\n",
    "\n",
    "This notebook and pair of directories are included by default in your home directory.\n",
    "The directories are:\n",
    "\n",
    "* `data`: A read-only directory for storing and sharing data\n",
    "* `scratch`: A read-write directory for sharing code, notebooks, or other files with other users\n",
    "\n",
    "Files that remain in `scratch` longer than 90 days may be deleted.\n",
    "\n",
    "If you'd like to add files to the `data` directory,\n",
    "please contact us through the [CSDMS Help Desk](https://csdms.github.io/help-desk)."
   ]
  },
  {
   "cell_type": "markdown",
   "id": "55ef17b0-cb40-44e8-8d74-9886ef041c31",
   "metadata": {},
   "source": [
    "## acknowledgments\n",
    "\n",
    "CSDMS and the OpenEarthscape project are supported by the U.S. National Science\n",
    "Foundation. See [openearthscape.org](http://openearthscape.org) for more information."
   ]
  }
 ],
 "metadata": {
  "kernelspec": {
   "display_name": "Python 3 (ipykernel)",
   "language": "python",
   "name": "python3"
  },
  "language_info": {
   "codemirror_mode": {
    "name": "ipython",
    "version": 3
   },
   "file_extension": ".py",
   "mimetype": "text/x-python",
   "name": "python",
   "nbconvert_exporter": "python",
   "pygments_lexer": "ipython3",
   "version": "3.9.7"
  }
 },
 "nbformat": 4,
 "nbformat_minor": 5
}
