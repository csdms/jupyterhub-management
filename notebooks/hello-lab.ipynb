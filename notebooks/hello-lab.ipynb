{
 "cells": [
  {
   "cell_type": "markdown",
   "id": "9a32553f-555b-4c4b-930f-fa15e3d61dde",
   "metadata": {},
   "source": [
    "# Decommission Notice\n",
    "\n",
    "This JupyterHub will be permanently shut down on 2025 September 30.\n",
    "Please contact us \n",
    "through the [CSDMS Help Desk](https://csdms.github.io/help-desk)\n",
    "and we can help you transition to\n",
    "the [explore](https://explore.openearthscape.org) or \n",
    "[jupyter](https://jupyter.openearthscape.org) instance\n",
    "of EarthscapeHub."
   ]
  }
 ],
 "metadata": {
  "kernelspec": {
   "display_name": "Python 3 (ipykernel)",
   "language": "python",
   "name": "python3"
  },
  "language_info": {
   "codemirror_mode": {
    "name": "ipython",
    "version": 3
   },
   "file_extension": ".py",
   "mimetype": "text/x-python",
   "name": "python",
   "nbconvert_exporter": "python",
   "pygments_lexer": "ipython3",
   "version": "3.9.9"
  }
 },
 "nbformat": 4,
 "nbformat_minor": 5
}
